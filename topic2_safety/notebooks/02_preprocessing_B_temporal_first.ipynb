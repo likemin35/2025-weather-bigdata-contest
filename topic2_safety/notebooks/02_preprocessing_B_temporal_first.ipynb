{
  "cells": [
    {
      "cell_type": "markdown",
      "metadata": {
        "id": "c6aZMsyrMEYF"
      },
      "source": [
        "# 결측치 처리 전략: 시계열 보간 → 공간 보간 → 인접 관측소 평균 대체"
      ]
    },
    {
      "cell_type": "markdown",
      "metadata": {
        "id": "Vujh5yIVp3AJ"
      },
      "source": [
        "# 라이브러리 불러오기"
      ]
    },
    {
      "cell_type": "code",
      "execution_count": 1,
      "metadata": {
        "id": "AqUCCY_Cp3AL"
      },
      "outputs": [],
      "source": [
        "import pandas as pd\n",
        "import numpy as np\n",
        "import matplotlib.pyplot as plt\n",
        "import seaborn as sns\n",
        "\n",
        "import requests\n",
        "import json"
      ]
    },
    {
      "cell_type": "markdown",
      "metadata": {
        "id": "Z7B7hywEp3AL"
      },
      "source": [
        "# 데이터 불러오기"
      ]
    },
    {
      "cell_type": "code",
      "execution_count": 2,
      "metadata": {
        "id": "Nh_YefVwp3AL"
      },
      "outputs": [],
      "source": [
        "url1 = \"https://raw.githubusercontent.com/s0nghyunje0ng/2025-weather-bigdata-contest/safety/topic2_safety/data/raw/call119_train.csv\"\n",
        "url2 = \"https://raw.githubusercontent.com/s0nghyunje0ng/2025-weather-bigdata-contest/safety/topic2_safety/data/raw/cat119_train.csv\"\n",
        "\n",
        "df_call = pd.read_csv(url1)\n",
        "df_cat = pd.read_csv(url2)"
      ]
    },
    {
      "cell_type": "markdown",
      "metadata": {
        "id": "r8fs1I-Pp3AM"
      },
      "source": [
        "# 데이터 확인"
      ]
    },
    {
      "cell_type": "code",
      "execution_count": 3,
      "metadata": {
        "colab": {
          "base_uri": "https://localhost:8080/",
          "height": 0
        },
        "id": "GqrEA7nup3AM",
        "outputId": "efcc6756-ee9b-4360-a975-43c5e86dc9ee"
      },
      "outputs": [
        {
          "name": "stdout",
          "output_type": "stream",
          "text": [
            "(42924, 14)\n"
          ]
        },
        {
          "data": {
            "text/html": [
              "<div>\n",
              "<style scoped>\n",
              "    .dataframe tbody tr th:only-of-type {\n",
              "        vertical-align: middle;\n",
              "    }\n",
              "\n",
              "    .dataframe tbody tr th {\n",
              "        vertical-align: top;\n",
              "    }\n",
              "\n",
              "    .dataframe thead th {\n",
              "        text-align: right;\n",
              "    }\n",
              "</style>\n",
              "<table border=\"1\" class=\"dataframe\">\n",
              "  <thead>\n",
              "    <tr style=\"text-align: right;\">\n",
              "      <th></th>\n",
              "      <th>call119_train.tm</th>\n",
              "      <th>call119_train.address_city</th>\n",
              "      <th>call119_train.address_gu</th>\n",
              "      <th>call119_train.sub_address</th>\n",
              "      <th>call119_train.stn</th>\n",
              "      <th>call119_train.ta_max</th>\n",
              "      <th>call119_train.ta_min</th>\n",
              "      <th>call119_train.ta_max_min</th>\n",
              "      <th>call119_train.hm_min</th>\n",
              "      <th>call119_train.hm_max</th>\n",
              "      <th>call119_train.ws_max</th>\n",
              "      <th>call119_train.ws_ins_max</th>\n",
              "      <th>call119_train.rn_day</th>\n",
              "      <th>call119_train.call_count</th>\n",
              "    </tr>\n",
              "  </thead>\n",
              "  <tbody>\n",
              "    <tr>\n",
              "      <th>0</th>\n",
              "      <td>20200501</td>\n",
              "      <td>부산광역시</td>\n",
              "      <td>강서구</td>\n",
              "      <td>대저2동</td>\n",
              "      <td>904</td>\n",
              "      <td>23.7</td>\n",
              "      <td>16.6</td>\n",
              "      <td>7.1</td>\n",
              "      <td>63.2</td>\n",
              "      <td>90.3</td>\n",
              "      <td>5.8</td>\n",
              "      <td>10.6</td>\n",
              "      <td>0.0</td>\n",
              "      <td>1</td>\n",
              "    </tr>\n",
              "    <tr>\n",
              "      <th>1</th>\n",
              "      <td>20200501</td>\n",
              "      <td>부산광역시</td>\n",
              "      <td>강서구</td>\n",
              "      <td>천성동</td>\n",
              "      <td>921</td>\n",
              "      <td>24.3</td>\n",
              "      <td>15.4</td>\n",
              "      <td>8.9</td>\n",
              "      <td>64.2</td>\n",
              "      <td>96.4</td>\n",
              "      <td>4.8</td>\n",
              "      <td>8.6</td>\n",
              "      <td>0.0</td>\n",
              "      <td>1</td>\n",
              "    </tr>\n",
              "    <tr>\n",
              "      <th>2</th>\n",
              "      <td>20200501</td>\n",
              "      <td>부산광역시</td>\n",
              "      <td>금정구</td>\n",
              "      <td>금사동</td>\n",
              "      <td>940</td>\n",
              "      <td>25.6</td>\n",
              "      <td>17.2</td>\n",
              "      <td>8.4</td>\n",
              "      <td>46.6</td>\n",
              "      <td>76.4</td>\n",
              "      <td>4.8</td>\n",
              "      <td>8.3</td>\n",
              "      <td>0.0</td>\n",
              "      <td>1</td>\n",
              "    </tr>\n",
              "    <tr>\n",
              "      <th>3</th>\n",
              "      <td>20200501</td>\n",
              "      <td>부산광역시</td>\n",
              "      <td>금정구</td>\n",
              "      <td>금성동</td>\n",
              "      <td>941</td>\n",
              "      <td>25.3</td>\n",
              "      <td>17.1</td>\n",
              "      <td>8.2</td>\n",
              "      <td>-99.0</td>\n",
              "      <td>-99.0</td>\n",
              "      <td>7.1</td>\n",
              "      <td>9.7</td>\n",
              "      <td>0.0</td>\n",
              "      <td>1</td>\n",
              "    </tr>\n",
              "    <tr>\n",
              "      <th>4</th>\n",
              "      <td>20200501</td>\n",
              "      <td>부산광역시</td>\n",
              "      <td>금정구</td>\n",
              "      <td>남산동</td>\n",
              "      <td>939</td>\n",
              "      <td>26.5</td>\n",
              "      <td>16.7</td>\n",
              "      <td>9.8</td>\n",
              "      <td>-99.0</td>\n",
              "      <td>-99.0</td>\n",
              "      <td>5.7</td>\n",
              "      <td>8.1</td>\n",
              "      <td>0.0</td>\n",
              "      <td>3</td>\n",
              "    </tr>\n",
              "  </tbody>\n",
              "</table>\n",
              "</div>"
            ],
            "text/plain": [
              "   call119_train.tm call119_train.address_city call119_train.address_gu  \\\n",
              "0          20200501                      부산광역시                      강서구   \n",
              "1          20200501                      부산광역시                      강서구   \n",
              "2          20200501                      부산광역시                      금정구   \n",
              "3          20200501                      부산광역시                      금정구   \n",
              "4          20200501                      부산광역시                      금정구   \n",
              "\n",
              "  call119_train.sub_address  call119_train.stn  call119_train.ta_max  \\\n",
              "0                      대저2동                904                  23.7   \n",
              "1                       천성동                921                  24.3   \n",
              "2                       금사동                940                  25.6   \n",
              "3                       금성동                941                  25.3   \n",
              "4                       남산동                939                  26.5   \n",
              "\n",
              "   call119_train.ta_min  call119_train.ta_max_min  call119_train.hm_min  \\\n",
              "0                  16.6                       7.1                  63.2   \n",
              "1                  15.4                       8.9                  64.2   \n",
              "2                  17.2                       8.4                  46.6   \n",
              "3                  17.1                       8.2                 -99.0   \n",
              "4                  16.7                       9.8                 -99.0   \n",
              "\n",
              "   call119_train.hm_max  call119_train.ws_max  call119_train.ws_ins_max  \\\n",
              "0                  90.3                   5.8                      10.6   \n",
              "1                  96.4                   4.8                       8.6   \n",
              "2                  76.4                   4.8                       8.3   \n",
              "3                 -99.0                   7.1                       9.7   \n",
              "4                 -99.0                   5.7                       8.1   \n",
              "\n",
              "   call119_train.rn_day  call119_train.call_count  \n",
              "0                   0.0                         1  \n",
              "1                   0.0                         1  \n",
              "2                   0.0                         1  \n",
              "3                   0.0                         1  \n",
              "4                   0.0                         3  "
            ]
          },
          "execution_count": 3,
          "metadata": {},
          "output_type": "execute_result"
        }
      ],
      "source": [
        "print(df_call.shape)\n",
        "df_call.head()"
      ]
    },
    {
      "cell_type": "code",
      "execution_count": 4,
      "metadata": {
        "colab": {
          "base_uri": "https://localhost:8080/"
        },
        "id": "1Kk-jz4Vp3AM",
        "outputId": "ce2a3e1a-12b2-4196-a606-205bbe8f7109"
      },
      "outputs": [
        {
          "name": "stdout",
          "output_type": "stream",
          "text": [
            "<class 'pandas.core.frame.DataFrame'>\n",
            "RangeIndex: 42924 entries, 0 to 42923\n",
            "Data columns (total 14 columns):\n",
            " #   Column                      Non-Null Count  Dtype  \n",
            "---  ------                      --------------  -----  \n",
            " 0   call119_train.tm            42924 non-null  int64  \n",
            " 1   call119_train.address_city  42924 non-null  object \n",
            " 2   call119_train.address_gu    42924 non-null  object \n",
            " 3   call119_train.sub_address   42924 non-null  object \n",
            " 4   call119_train.stn           42924 non-null  int64  \n",
            " 5   call119_train.ta_max        42924 non-null  float64\n",
            " 6   call119_train.ta_min        42924 non-null  float64\n",
            " 7   call119_train.ta_max_min    42924 non-null  float64\n",
            " 8   call119_train.hm_min        42924 non-null  float64\n",
            " 9   call119_train.hm_max        42924 non-null  float64\n",
            " 10  call119_train.ws_max        42924 non-null  float64\n",
            " 11  call119_train.ws_ins_max    42924 non-null  float64\n",
            " 12  call119_train.rn_day        42924 non-null  float64\n",
            " 13  call119_train.call_count    42924 non-null  int64  \n",
            "dtypes: float64(8), int64(3), object(3)\n",
            "memory usage: 4.6+ MB\n"
          ]
        }
      ],
      "source": [
        "df_call.info()"
      ]
    },
    {
      "cell_type": "code",
      "execution_count": 5,
      "metadata": {
        "colab": {
          "base_uri": "https://localhost:8080/",
          "height": 0
        },
        "id": "DOt8a5Ffp3AN",
        "outputId": "b6bf6408-9d2a-4eff-b15a-f037a112cef1"
      },
      "outputs": [
        {
          "name": "stdout",
          "output_type": "stream",
          "text": [
            "(61771, 8)\n"
          ]
        },
        {
          "data": {
            "text/html": [
              "<div>\n",
              "<style scoped>\n",
              "    .dataframe tbody tr th:only-of-type {\n",
              "        vertical-align: middle;\n",
              "    }\n",
              "\n",
              "    .dataframe tbody tr th {\n",
              "        vertical-align: top;\n",
              "    }\n",
              "\n",
              "    .dataframe thead th {\n",
              "        text-align: right;\n",
              "    }\n",
              "</style>\n",
              "<table border=\"1\" class=\"dataframe\">\n",
              "  <thead>\n",
              "    <tr style=\"text-align: right;\">\n",
              "      <th></th>\n",
              "      <th>cat119_train.tm</th>\n",
              "      <th>cat119_train.address_city</th>\n",
              "      <th>cat119_train.address_gu</th>\n",
              "      <th>cat119_train.sub_address</th>\n",
              "      <th>cat119_train.cat</th>\n",
              "      <th>cat119_train.sub_cat</th>\n",
              "      <th>cat119_train.stn</th>\n",
              "      <th>cat119_train.call_count</th>\n",
              "    </tr>\n",
              "  </thead>\n",
              "  <tbody>\n",
              "    <tr>\n",
              "      <th>0</th>\n",
              "      <td>20200501</td>\n",
              "      <td>부산광역시</td>\n",
              "      <td>강서구</td>\n",
              "      <td>대저2동</td>\n",
              "      <td>구급</td>\n",
              "      <td>교통사고</td>\n",
              "      <td>904</td>\n",
              "      <td>1</td>\n",
              "    </tr>\n",
              "    <tr>\n",
              "      <th>1</th>\n",
              "      <td>20200501</td>\n",
              "      <td>부산광역시</td>\n",
              "      <td>강서구</td>\n",
              "      <td>천성동</td>\n",
              "      <td>구조</td>\n",
              "      <td>교통사고</td>\n",
              "      <td>921</td>\n",
              "      <td>1</td>\n",
              "    </tr>\n",
              "    <tr>\n",
              "      <th>2</th>\n",
              "      <td>20200501</td>\n",
              "      <td>부산광역시</td>\n",
              "      <td>금정구</td>\n",
              "      <td>금사동</td>\n",
              "      <td>구급</td>\n",
              "      <td>부상</td>\n",
              "      <td>940</td>\n",
              "      <td>1</td>\n",
              "    </tr>\n",
              "    <tr>\n",
              "      <th>3</th>\n",
              "      <td>20200501</td>\n",
              "      <td>부산광역시</td>\n",
              "      <td>금정구</td>\n",
              "      <td>금성동</td>\n",
              "      <td>기타</td>\n",
              "      <td>업무운행</td>\n",
              "      <td>941</td>\n",
              "      <td>1</td>\n",
              "    </tr>\n",
              "    <tr>\n",
              "      <th>4</th>\n",
              "      <td>20200501</td>\n",
              "      <td>부산광역시</td>\n",
              "      <td>금정구</td>\n",
              "      <td>남산동</td>\n",
              "      <td>구급</td>\n",
              "      <td>부상</td>\n",
              "      <td>939</td>\n",
              "      <td>1</td>\n",
              "    </tr>\n",
              "  </tbody>\n",
              "</table>\n",
              "</div>"
            ],
            "text/plain": [
              "   cat119_train.tm cat119_train.address_city cat119_train.address_gu  \\\n",
              "0         20200501                     부산광역시                     강서구   \n",
              "1         20200501                     부산광역시                     강서구   \n",
              "2         20200501                     부산광역시                     금정구   \n",
              "3         20200501                     부산광역시                     금정구   \n",
              "4         20200501                     부산광역시                     금정구   \n",
              "\n",
              "  cat119_train.sub_address cat119_train.cat cat119_train.sub_cat  \\\n",
              "0                     대저2동               구급                 교통사고   \n",
              "1                      천성동               구조                 교통사고   \n",
              "2                      금사동               구급                   부상   \n",
              "3                      금성동               기타                 업무운행   \n",
              "4                      남산동               구급                   부상   \n",
              "\n",
              "   cat119_train.stn  cat119_train.call_count  \n",
              "0               904                        1  \n",
              "1               921                        1  \n",
              "2               940                        1  \n",
              "3               941                        1  \n",
              "4               939                        1  "
            ]
          },
          "execution_count": 5,
          "metadata": {},
          "output_type": "execute_result"
        }
      ],
      "source": [
        "print(df_cat.shape)\n",
        "df_cat.head()"
      ]
    },
    {
      "cell_type": "code",
      "execution_count": 6,
      "metadata": {
        "colab": {
          "base_uri": "https://localhost:8080/"
        },
        "id": "jozFn0rAp3AN",
        "outputId": "3197d032-9ff0-46ca-9f3b-943a82415996"
      },
      "outputs": [
        {
          "name": "stdout",
          "output_type": "stream",
          "text": [
            "<class 'pandas.core.frame.DataFrame'>\n",
            "RangeIndex: 61771 entries, 0 to 61770\n",
            "Data columns (total 8 columns):\n",
            " #   Column                     Non-Null Count  Dtype \n",
            "---  ------                     --------------  ----- \n",
            " 0   cat119_train.tm            61771 non-null  int64 \n",
            " 1   cat119_train.address_city  61771 non-null  object\n",
            " 2   cat119_train.address_gu    61771 non-null  object\n",
            " 3   cat119_train.sub_address   61771 non-null  object\n",
            " 4   cat119_train.cat           61771 non-null  object\n",
            " 5   cat119_train.sub_cat       61771 non-null  object\n",
            " 6   cat119_train.stn           61771 non-null  int64 \n",
            " 7   cat119_train.call_count    61771 non-null  int64 \n",
            "dtypes: int64(3), object(5)\n",
            "memory usage: 3.8+ MB\n"
          ]
        }
      ],
      "source": [
        "df_cat.info()"
      ]
    },
    {
      "cell_type": "markdown",
      "metadata": {
        "id": "1zi3Oilup3AO"
      },
      "source": [
        "# 컬럼명 정리"
      ]
    },
    {
      "cell_type": "markdown",
      "metadata": {
        "id": "_xXjaYAjp3AO"
      },
      "source": [
        "컬럼명에서 불필요한 접두어 제거"
      ]
    },
    {
      "cell_type": "code",
      "execution_count": 7,
      "metadata": {
        "id": "auNyi-UZp3AO"
      },
      "outputs": [],
      "source": [
        "df_call.columns = [col.replace(\"call119_train.\", \"\") for col in df_call.columns]\n",
        "df_cat.columns = [col.replace(\"cat119_train.\", \"\") for col in df_cat.columns]"
      ]
    },
    {
      "cell_type": "markdown",
      "metadata": {
        "id": "7L9VpiJFp3AO"
      },
      "source": [
        "두 데이터프레임의 `call_count`가 충돌하지 않도록 명확화"
      ]
    },
    {
      "cell_type": "code",
      "execution_count": 8,
      "metadata": {
        "id": "e-NgNZ5pp3AO"
      },
      "outputs": [],
      "source": [
        "df_cat.rename(columns={\"call_count\": \"sub_call_count\"}, inplace=True)"
      ]
    },
    {
      "cell_type": "markdown",
      "metadata": {
        "id": "vWHrBoeBp3AP"
      },
      "source": [
        "# 불필요한 컬럼 제거 및 수정"
      ]
    },
    {
      "cell_type": "markdown",
      "metadata": {
        "id": "6RdbcyV-p3AP"
      },
      "source": [
        "모든 데이터에 같은 값(부산광역시)을 가지는 `address_city` 제거"
      ]
    },
    {
      "cell_type": "code",
      "execution_count": 9,
      "metadata": {
        "id": "FRaLxiNzp3AP"
      },
      "outputs": [],
      "source": [
        "df_call.drop(columns=[\"address_city\"], inplace=True)\n",
        "df_cat.drop(columns=[\"address_city\"], inplace=True)"
      ]
    },
    {
      "cell_type": "markdown",
      "metadata": {
        "id": "YQKhUGD49NtV"
      },
      "source": [
        "동명이동(송정동)이 있어서 군/구와 읍/면/동을 합쳐 명확화"
      ]
    },
    {
      "cell_type": "code",
      "execution_count": 10,
      "metadata": {
        "id": "hRRXZo0m9ESL"
      },
      "outputs": [],
      "source": [
        "df_call[\"sub_address\"] = df_call[\"address_gu\"].astype(str) + \" \" + df_call[\"sub_address\"].astype(str)\n",
        "df_cat[\"sub_address\"] = df_cat[\"address_gu\"].astype(str) + \" \" + df_cat[\"sub_address\"].astype(str)"
      ]
    },
    {
      "cell_type": "markdown",
      "metadata": {
        "id": "04nhDnvbp3AO"
      },
      "source": [
        "# 변수 타입 변환"
      ]
    },
    {
      "cell_type": "markdown",
      "metadata": {
        "id": "T8E5OA2Vp3AP"
      },
      "source": [
        "- 시간 기반 분석 및 파생 변수 생성을 위함\n",
        "\n",
        "    - `tm`(날짜): `int` → `datetime`\n",
        "\n",
        "- 메모리 절약과 연산 효율성 향상을 위함\n",
        "\n",
        "    - `stn`(AWS 지점 코드): `int` → `category`\n",
        "\n",
        "    - `address_gu`(군/구명): `object` → `category`\n",
        "\n",
        "    - `sub_address`(읍/면/동명): `object` → `category`\n",
        "\n",
        "    - `cat`(신고 분류(대분류)): `object` → `category`\n",
        "\n",
        "    - `sub_cat`(신고 분류(소분류)): `object` → `category`"
      ]
    },
    {
      "cell_type": "code",
      "execution_count": 11,
      "metadata": {
        "id": "gB2y8nILp3AP"
      },
      "outputs": [],
      "source": [
        "df_call[\"tm\"] = pd.to_datetime(df_call[\"tm\"], format=\"%Y%m%d\")\n",
        "df_call[\"stn\"] = df_call[\"stn\"].astype(\"category\")\n",
        "df_call[\"address_gu\"] = df_call[\"address_gu\"].astype(\"category\")\n",
        "df_call[\"sub_address\"] = df_call[\"sub_address\"].astype(\"category\")\n",
        "\n",
        "df_cat[\"tm\"] = pd.to_datetime(df_cat[\"tm\"], format=\"%Y%m%d\")\n",
        "df_cat[\"stn\"] = df_cat[\"stn\"].astype(\"category\")\n",
        "df_cat[\"address_gu\"] = df_cat[\"address_gu\"].astype(\"category\")\n",
        "df_cat[\"sub_address\"] = df_cat[\"sub_address\"].astype(\"category\")\n",
        "df_cat[\"cat\"] = df_cat[\"cat\"].astype(\"category\")\n",
        "df_cat[\"sub_cat\"] = df_cat[\"sub_cat\"].astype(\"category\")"
      ]
    },
    {
      "cell_type": "markdown",
      "metadata": {
        "id": "lCNAb_3Bp3AP"
      },
      "source": [
        "# 결측치 처리 ⭐⭐⭐"
      ]
    },
    {
      "cell_type": "markdown",
      "metadata": {
        "id": "QjW0eQvOp3AP"
      },
      "source": [
        "![image.png](data:image/png;base64,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)"
      ]
    },
    {
      "cell_type": "code",
      "execution_count": 12,
      "metadata": {
        "id": "_Z4T_cBUp3AQ"
      },
      "outputs": [],
      "source": [
        "df_call.replace(-99.0, np.nan, inplace=True)"
      ]
    },
    {
      "cell_type": "code",
      "execution_count": 13,
      "metadata": {
        "colab": {
          "base_uri": "https://localhost:8080/",
          "height": 335
        },
        "id": "ndhnADXslIft",
        "outputId": "8e9b46ea-2ad0-4b43-cea9-6aa3b336ff44"
      },
      "outputs": [
        {
          "data": {
            "text/plain": [
              "ta_max         133\n",
              "ta_min         133\n",
              "ta_max_min     133\n",
              "hm_min        3056\n",
              "hm_max        3056\n",
              "ws_max         141\n",
              "ws_ins_max     141\n",
              "rn_day         255\n",
              "dtype: int64"
            ]
          },
          "execution_count": 13,
          "metadata": {},
          "output_type": "execute_result"
        }
      ],
      "source": [
        "missing_cols = df_call.isna().sum()\n",
        "missing_cols[missing_cols > 0]"
      ]
    },
    {
      "cell_type": "markdown",
      "metadata": {
        "id": "pJJ5wJExp3AT"
      },
      "source": [
        "## B. 시계열 보간 → 공간 보간 전략\n",
        "\n",
        "- 먼저 관측소 기준으로 시간 흐름에 따라 선형 보간 ← 시간 흐름 패턴을 반영\n",
        "\n",
        "- 그 후 남은 결측은 같은 행정구(`address_gu`)의 평균값으로 결측을 채움 ← 지역적 유사성 활용"
      ]
    },
    {
      "cell_type": "code",
      "execution_count": 14,
      "metadata": {
        "colab": {
          "base_uri": "https://localhost:8080/"
        },
        "id": "puWemjyv62S1",
        "outputId": "42e350e4-fec9-4da8-e17f-47fba97c43c7"
      },
      "outputs": [
        {
          "name": "stdout",
          "output_type": "stream",
          "text": [
            "시계열 보간 후 남은 결측:\n",
            "ta_max           0\n",
            "ta_min           0\n",
            "hm_max        2918\n",
            "hm_min        2918\n",
            "ws_max           0\n",
            "ws_ins_max       0\n",
            "rn_day           0\n",
            "dtype: int64\n",
            "\n",
            "공간 보간 후 남은 결측:\n",
            "ta_max           0\n",
            "ta_min           0\n",
            "hm_max        1462\n",
            "hm_min        1462\n",
            "ws_max           0\n",
            "ws_ins_max       0\n",
            "rn_day           0\n",
            "dtype: int64\n",
            "\n",
            "인접 관측소 평균 대체 후 남은 결측:\n",
            "ta_max        0\n",
            "ta_min        0\n",
            "hm_max        0\n",
            "hm_min        0\n",
            "ws_max        0\n",
            "ws_ins_max    0\n",
            "rn_day        0\n",
            "dtype: int64\n"
          ]
        }
      ],
      "source": [
        "df_b = df_call.drop(columns=[\"ta_max_min\"]).copy()\n",
        "\n",
        "# 보간 대상 컬럼\n",
        "target_cols = [\"ta_max\", \"ta_min\", \"hm_max\", \"hm_min\", \"ws_max\", \"ws_ins_max\", \"rn_day\"]\n",
        "\n",
        "# -----------------------------------\n",
        "# 행정구별 날짜 단위 평균 테이블 생성\n",
        "# -----------------------------------\n",
        "gu_to_stns = df_call.groupby(\"address_gu\", observed=False)[\"stn\"].unique().to_dict()\n",
        "\n",
        "avg_weather_by_gu_tm = []\n",
        "\n",
        "for gu, stns in gu_to_stns.items():\n",
        "    subset = df_call[df_call[\"stn\"].isin(stns)].copy()\n",
        "    group_avg = subset.groupby(\"tm\", observed=False)[target_cols].mean()\n",
        "    group_avg[\"address_gu\"] = gu\n",
        "    avg_weather_by_gu_tm.append(group_avg.reset_index())\n",
        "\n",
        "df_avg_weather = pd.concat(avg_weather_by_gu_tm, ignore_index=True)\n",
        "\n",
        "# ------------------------\n",
        "# [B-1] 공간 → 시계열 보간\n",
        "# ------------------------\n",
        "\n",
        "# 시계열 보간\n",
        "df_b = df_b.sort_values([\"stn\", \"tm\"])\n",
        "for col in target_cols:\n",
        "    df_b[col] = df_b.groupby(\"stn\", observed=False)[col].transform(lambda x: x.interpolate())\n",
        "\n",
        "# 보간 후 결측치 현황 확인\n",
        "print(f\"시계열 보간 후 남은 결측:\\n{df_b[target_cols].isna().sum()}\")\n",
        "\n",
        "# 공간 보간\n",
        "for col in target_cols:\n",
        "    is_missing = df_b[col].isna()\n",
        "    for idx in df_b[is_missing].index:\n",
        "        row = df_b.loc[idx]\n",
        "        gu = row[\"address_gu\"]\n",
        "        date = row[\"tm\"]\n",
        "\n",
        "        # 평균 테이블에서 해당 구 + 날짜의 값 추출\n",
        "        match = df_avg_weather[(df_avg_weather[\"address_gu\"] == gu) & (df_avg_weather[\"tm\"] == date)]\n",
        "\n",
        "        if not match.empty:\n",
        "            fill_value = match[col].values[0]\n",
        "            if not pd.isna(fill_value):\n",
        "                df_b.at[idx, col] = fill_value\n",
        "\n",
        "# 보간 후 결측치 현황 확인\n",
        "print(f\"\\n공간 보간 후 남은 결측:\\n{df_b[target_cols].isna().sum()}\")\n",
        "\n",
        "# ----------------------\n",
        "# [B-2] 인접 관측소 평균\n",
        "# ----------------------\n",
        "\n",
        "# 인접 관측소 딕셔너리\n",
        "response = requests.get(\"https://raw.githubusercontent.com/s0nghyunje0ng/2025-weather-bigdata-contest/safety/topic2_safety/data/processed/busan_stn_neighbors.json\")\n",
        "stn_neighbors_dict = json.loads(response.text)\n",
        "stn_neighbors_dict = {int(k): v for k, v in stn_neighbors_dict.items()}\n",
        "\n",
        "# 인접 관측소 평균으로 대체\n",
        "for col in target_cols:\n",
        "    is_missing = df_b[col].isna()\n",
        "    for idx in df_b[is_missing].index:\n",
        "        row = df_b.loc[idx]\n",
        "        stn = row[\"stn\"]\n",
        "        date = row[\"tm\"]\n",
        "        neighbors = stn_neighbors_dict.get(stn, [])\n",
        "        if neighbors:\n",
        "            neighbor_values = df_b[(df_b[\"tm\"] == date) & (df_b[\"stn\"].isin(neighbors))][col].dropna()\n",
        "            if len(neighbor_values) > 0:\n",
        "                df_b.at[idx, col] = neighbor_values.mean()\n",
        "\n",
        "# 보간 후 결측치 현황 확인\n",
        "print(f\"\\n인접 관측소 평균 대체 후 남은 결측:\\n{df_b[target_cols].isna().sum()}\")"
      ]
    },
    {
      "cell_type": "markdown",
      "metadata": {
        "id": "pTwFGR6uNV6F"
      },
      "source": [
        "# 전처리된 데이터 저장"
      ]
    },
    {
      "cell_type": "code",
      "execution_count": null,
      "metadata": {},
      "outputs": [
        {
          "data": {
            "text/plain": [
              "0"
            ]
          },
          "execution_count": 15,
          "metadata": {},
          "output_type": "execute_result"
        }
      ],
      "source": [
        "# 일교차 계산\n",
        "df_b[\"ta_max_min\"] = df_b[\"ta_max\"] - df_b[\"ta_min\"]\n",
        "\n",
        "len(df_b[df_b[\"ta_max_min\"] < 0])"
      ]
    },
    {
      "cell_type": "code",
      "execution_count": null,
      "metadata": {
        "id": "7m5_7WJ6NYkL"
      },
      "outputs": [],
      "source": [
        "df_b = df_b[[\"tm\", \"address_gu\", \"sub_address\", \"stn\", \"ta_max\", \"ta_min\", \"ta_max_min\", \"hm_max\", \"hm_min\", \"ws_max\", \"ws_ins_max\", \"rn_day\", \"call_count\"]]\n",
        "df_b.to_csv(\"preprocessed_B_temporal_first.csv\", index=False)"
      ]
    }
  ],
  "metadata": {
    "accelerator": "GPU",
    "colab": {
      "collapsed_sections": [
        "Z7B7hywEp3AL",
        "r8fs1I-Pp3AM",
        "1zi3Oilup3AO",
        "pJJ5wJExp3AT"
      ],
      "gpuType": "T4",
      "provenance": []
    },
    "kernelspec": {
      "display_name": "base",
      "language": "python",
      "name": "python3"
    },
    "language_info": {
      "codemirror_mode": {
        "name": "ipython",
        "version": 3
      },
      "file_extension": ".py",
      "mimetype": "text/x-python",
      "name": "python",
      "nbconvert_exporter": "python",
      "pygments_lexer": "ipython3",
      "version": "3.12.4"
    }
  },
  "nbformat": 4,
  "nbformat_minor": 0
}
